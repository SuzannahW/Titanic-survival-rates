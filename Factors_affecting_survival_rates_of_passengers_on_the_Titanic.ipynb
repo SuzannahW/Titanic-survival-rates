{
 "cells": [
  {
   "cell_type": "markdown",
   "metadata": {},
   "source": [
    "# Titanic Data\n",
    "\n",
    "## What factors meant that people were more likely to survive? \n",
    "\n",
    "It is relatively well known that a higher percentage of women passengers survived, but are there other factors, such as class, or age, that were also important in the likelyhood that a passenger would survive?\n",
    "\n",
    "Below is an exploration of the passenger information provided, from 891 of the 2224 passengers and crew onboard the Titanic."
   ]
  },
  {
   "cell_type": "code",
   "execution_count": 1,
   "metadata": {},
   "outputs": [
    {
     "data": {
      "text/html": [
       "<div>\n",
       "<table border=\"1\" class=\"dataframe\">\n",
       "  <thead>\n",
       "    <tr style=\"text-align: right;\">\n",
       "      <th></th>\n",
       "      <th>PassengerId</th>\n",
       "      <th>Survived</th>\n",
       "      <th>Pclass</th>\n",
       "      <th>Name</th>\n",
       "      <th>Sex</th>\n",
       "      <th>Age</th>\n",
       "      <th>SibSp</th>\n",
       "      <th>Parch</th>\n",
       "      <th>Ticket</th>\n",
       "      <th>Fare</th>\n",
       "      <th>Cabin</th>\n",
       "      <th>Embarked</th>\n",
       "    </tr>\n",
       "  </thead>\n",
       "  <tbody>\n",
       "    <tr>\n",
       "      <th>0</th>\n",
       "      <td>1</td>\n",
       "      <td>0</td>\n",
       "      <td>3</td>\n",
       "      <td>Braund, Mr. Owen Harris</td>\n",
       "      <td>male</td>\n",
       "      <td>22.0</td>\n",
       "      <td>1</td>\n",
       "      <td>0</td>\n",
       "      <td>A/5 21171</td>\n",
       "      <td>7.2500</td>\n",
       "      <td>NaN</td>\n",
       "      <td>S</td>\n",
       "    </tr>\n",
       "    <tr>\n",
       "      <th>1</th>\n",
       "      <td>2</td>\n",
       "      <td>1</td>\n",
       "      <td>1</td>\n",
       "      <td>Cumings, Mrs. John Bradley (Florence Briggs Th...</td>\n",
       "      <td>female</td>\n",
       "      <td>38.0</td>\n",
       "      <td>1</td>\n",
       "      <td>0</td>\n",
       "      <td>PC 17599</td>\n",
       "      <td>71.2833</td>\n",
       "      <td>C85</td>\n",
       "      <td>C</td>\n",
       "    </tr>\n",
       "    <tr>\n",
       "      <th>2</th>\n",
       "      <td>3</td>\n",
       "      <td>1</td>\n",
       "      <td>3</td>\n",
       "      <td>Heikkinen, Miss. Laina</td>\n",
       "      <td>female</td>\n",
       "      <td>26.0</td>\n",
       "      <td>0</td>\n",
       "      <td>0</td>\n",
       "      <td>STON/O2. 3101282</td>\n",
       "      <td>7.9250</td>\n",
       "      <td>NaN</td>\n",
       "      <td>S</td>\n",
       "    </tr>\n",
       "    <tr>\n",
       "      <th>3</th>\n",
       "      <td>4</td>\n",
       "      <td>1</td>\n",
       "      <td>1</td>\n",
       "      <td>Futrelle, Mrs. Jacques Heath (Lily May Peel)</td>\n",
       "      <td>female</td>\n",
       "      <td>35.0</td>\n",
       "      <td>1</td>\n",
       "      <td>0</td>\n",
       "      <td>113803</td>\n",
       "      <td>53.1000</td>\n",
       "      <td>C123</td>\n",
       "      <td>S</td>\n",
       "    </tr>\n",
       "    <tr>\n",
       "      <th>4</th>\n",
       "      <td>5</td>\n",
       "      <td>0</td>\n",
       "      <td>3</td>\n",
       "      <td>Allen, Mr. William Henry</td>\n",
       "      <td>male</td>\n",
       "      <td>35.0</td>\n",
       "      <td>0</td>\n",
       "      <td>0</td>\n",
       "      <td>373450</td>\n",
       "      <td>8.0500</td>\n",
       "      <td>NaN</td>\n",
       "      <td>S</td>\n",
       "    </tr>\n",
       "  </tbody>\n",
       "</table>\n",
       "</div>"
      ],
      "text/plain": [
       "   PassengerId  Survived  Pclass  \\\n",
       "0            1         0       3   \n",
       "1            2         1       1   \n",
       "2            3         1       3   \n",
       "3            4         1       1   \n",
       "4            5         0       3   \n",
       "\n",
       "                                                Name     Sex   Age  SibSp  \\\n",
       "0                            Braund, Mr. Owen Harris    male  22.0      1   \n",
       "1  Cumings, Mrs. John Bradley (Florence Briggs Th...  female  38.0      1   \n",
       "2                             Heikkinen, Miss. Laina  female  26.0      0   \n",
       "3       Futrelle, Mrs. Jacques Heath (Lily May Peel)  female  35.0      1   \n",
       "4                           Allen, Mr. William Henry    male  35.0      0   \n",
       "\n",
       "   Parch            Ticket     Fare Cabin Embarked  \n",
       "0      0         A/5 21171   7.2500   NaN        S  \n",
       "1      0          PC 17599  71.2833   C85        C  \n",
       "2      0  STON/O2. 3101282   7.9250   NaN        S  \n",
       "3      0            113803  53.1000  C123        S  \n",
       "4      0            373450   8.0500   NaN        S  "
      ]
     },
     "execution_count": 1,
     "metadata": {},
     "output_type": "execute_result"
    }
   ],
   "source": [
    "# Importing necessary libraries and reading in the csv file\n",
    "import pandas as pd\n",
    "import numpy as np\n",
    "\n",
    "titanic_data = pd.read_csv('titanic-data.csv')\n",
    "\n",
    "titanic_data.head()  # to get an idea of the data included in the file"
   ]
  },
  {
   "cell_type": "markdown",
   "metadata": {},
   "source": [
    "### Male versus female survival rates\n",
    "\n",
    "First I will explore the effect of gender on survival rates, using the .groupby function to group by gender."
   ]
  },
  {
   "cell_type": "code",
   "execution_count": 2,
   "metadata": {},
   "outputs": [
    {
     "data": {
      "text/html": [
       "<div>\n",
       "<table border=\"1\" class=\"dataframe\">\n",
       "  <thead>\n",
       "    <tr style=\"text-align: right;\">\n",
       "      <th></th>\n",
       "      <th>PassengerId</th>\n",
       "      <th>Survived</th>\n",
       "      <th>Pclass</th>\n",
       "      <th>Name</th>\n",
       "      <th>Age</th>\n",
       "      <th>SibSp</th>\n",
       "      <th>Parch</th>\n",
       "      <th>Ticket</th>\n",
       "      <th>Fare</th>\n",
       "      <th>Cabin</th>\n",
       "      <th>Embarked</th>\n",
       "    </tr>\n",
       "    <tr>\n",
       "      <th>Sex</th>\n",
       "      <th></th>\n",
       "      <th></th>\n",
       "      <th></th>\n",
       "      <th></th>\n",
       "      <th></th>\n",
       "      <th></th>\n",
       "      <th></th>\n",
       "      <th></th>\n",
       "      <th></th>\n",
       "      <th></th>\n",
       "      <th></th>\n",
       "    </tr>\n",
       "  </thead>\n",
       "  <tbody>\n",
       "    <tr>\n",
       "      <th>female</th>\n",
       "      <td>314</td>\n",
       "      <td>314</td>\n",
       "      <td>314</td>\n",
       "      <td>314</td>\n",
       "      <td>261</td>\n",
       "      <td>314</td>\n",
       "      <td>314</td>\n",
       "      <td>314</td>\n",
       "      <td>314</td>\n",
       "      <td>97</td>\n",
       "      <td>312</td>\n",
       "    </tr>\n",
       "    <tr>\n",
       "      <th>male</th>\n",
       "      <td>577</td>\n",
       "      <td>577</td>\n",
       "      <td>577</td>\n",
       "      <td>577</td>\n",
       "      <td>453</td>\n",
       "      <td>577</td>\n",
       "      <td>577</td>\n",
       "      <td>577</td>\n",
       "      <td>577</td>\n",
       "      <td>107</td>\n",
       "      <td>577</td>\n",
       "    </tr>\n",
       "  </tbody>\n",
       "</table>\n",
       "</div>"
      ],
      "text/plain": [
       "        PassengerId  Survived  Pclass  Name  Age  SibSp  Parch  Ticket  Fare  \\\n",
       "Sex                                                                            \n",
       "female          314       314     314   314  261    314    314     314   314   \n",
       "male            577       577     577   577  453    577    577     577   577   \n",
       "\n",
       "        Cabin  Embarked  \n",
       "Sex                      \n",
       "female     97       312  \n",
       "male      107       577  "
      ]
     },
     "execution_count": 2,
     "metadata": {},
     "output_type": "execute_result"
    }
   ],
   "source": [
    "#using .count to find out how many males and female in the data set, and to get an idea about the completeness of the data.\n",
    "\n",
    "titanic_grouped_by_sex = titanic_data.groupby('Sex')\n",
    "\n",
    "titanic_grouped_by_sex.count()  "
   ]
  },
  {
   "cell_type": "markdown",
   "metadata": {},
   "source": [
    "Looking at the above table it seems that out of the 891 passengers in the dataset, 314 were female and 577 male. Most columns of the dataset are complete, except some ages are unknown, most of the cabins of the passengers are unknown, and there are two missing values for the port at which two female passengers embarked.\n",
    "\n",
    "The 'Survived' column is made up of '1' or '0' depending upon whether the passenger survived or not. By adding up the values in this column, the number of passengers that survived can be found."
   ]
  },
  {
   "cell_type": "code",
   "execution_count": 3,
   "metadata": {},
   "outputs": [
    {
     "data": {
      "text/plain": [
       "Sex\n",
       "female    233\n",
       "male      109\n",
       "Name: Survived, dtype: int64"
      ]
     },
     "execution_count": 3,
     "metadata": {},
     "output_type": "execute_result"
    }
   ],
   "source": [
    "titanic_m_f_survivors = titanic_data.groupby('Sex')['Survived'].sum()\n",
    "\n",
    "titanic_m_f_survivors"
   ]
  },
  {
   "cell_type": "code",
   "execution_count": 4,
   "metadata": {},
   "outputs": [
    {
     "data": {
      "text/plain": [
       "Sex\n",
       "female    74.203822\n",
       "male      18.890815\n",
       "dtype: float64"
      ]
     },
     "execution_count": 4,
     "metadata": {},
     "output_type": "execute_result"
    }
   ],
   "source": [
    "percentage_m_f_survivors = (titanic_m_f_survivors.div(titanic_grouped_by_sex['PassengerId'].count()))*100\n",
    "\n",
    "percentage_m_f_survivors"
   ]
  },
  {
   "cell_type": "markdown",
   "metadata": {},
   "source": [
    "Out of the dataset provided, there were a total of 342 survivors, giving a survival rate of just over 38 %. Of these, 233 were female passengers, accounting for approximately 74 % of the female passengers onboard the ship, whilst only 109 were male passengers, accounting for just under 19 % of the male passengers onboard. \n",
    "\n",
    "Put another way, although male passengers made up nearly 65 % of the total passengers onboard the Titanic, just under 32 % of the survivors were male."
   ]
  },
  {
   "cell_type": "markdown",
   "metadata": {},
   "source": [
    "### Did ticket class affect a passenger's survival rate?\n",
    "\n",
    "I was interested to know more about this data set, specifically, within the male and female survivor groups, how did the demographic vary in terms of ticket class."
   ]
  },
  {
   "cell_type": "code",
   "execution_count": 5,
   "metadata": {},
   "outputs": [
    {
     "name": "stdout",
     "output_type": "stream",
     "text": [
      "Sex     Pclass\n",
      "female  1          94\n",
      "        2          76\n",
      "        3         144\n",
      "male    1         122\n",
      "        2         108\n",
      "        3         347\n",
      "Name: PassengerId, dtype: int64\n"
     ]
    },
    {
     "data": {
      "text/plain": [
       "Sex     Pclass\n",
       "female  1         29.936306\n",
       "        2         24.203822\n",
       "        3         45.859873\n",
       "male    1         21.143847\n",
       "        2         18.717504\n",
       "        3         60.138648\n",
       "Name: PassengerId, dtype: float64"
      ]
     },
     "execution_count": 5,
     "metadata": {},
     "output_type": "execute_result"
    }
   ],
   "source": [
    "# First I looked at the class breakdown of all passengers onboard, grouped by male and female\n",
    "titanic_classes_numbers = titanic_data.groupby(['Sex', 'Pclass'])['PassengerId'].count()\n",
    "print (titanic_classes_numbers)\n",
    "\n",
    "titantic_classes_percent = (titanic_classes_numbers.div(titanic_grouped_by_sex['PassengerId'].count()))*100\n",
    "titantic_classes_percent"
   ]
  },
  {
   "cell_type": "code",
   "execution_count": 6,
   "metadata": {},
   "outputs": [
    {
     "name": "stdout",
     "output_type": "stream",
     "text": [
      "Sex     Pclass\n",
      "female  1         91\n",
      "        2         70\n",
      "        3         72\n",
      "male    1         45\n",
      "        2         17\n",
      "        3         47\n",
      "Name: Survived, dtype: int64\n"
     ]
    },
    {
     "data": {
      "text/plain": [
       "Sex     Pclass\n",
       "female  1         39.055794\n",
       "        2         30.042918\n",
       "        3         30.901288\n",
       "male    1         41.284404\n",
       "        2         15.596330\n",
       "        3         43.119266\n",
       "Name: Survived, dtype: float64"
      ]
     },
     "execution_count": 6,
     "metadata": {},
     "output_type": "execute_result"
    }
   ],
   "source": [
    "# I then looked at the class breakdown of the survivors, grouped by male and female\n",
    "titanic_classes_numbers_survived = titanic_data.groupby(['Sex', 'Pclass'])['Survived'].sum()\n",
    "print (titanic_classes_numbers_survived)\n",
    "\n",
    "titantic_classes_percent_survived = (titanic_classes_numbers_survived.div(titanic_m_f_survivors))*100\n",
    "titantic_classes_percent_survived"
   ]
  },
  {
   "cell_type": "markdown",
   "metadata": {},
   "source": [
    "In both the male and females groups, a higher proportion of first class passengers were saved, compared to the proportion of first class passengers onboard. Interestingly, 45 out of the 109 male survivors were travelling in first class, 41 % of the male survivors, even though only 21 % of male passengers were travelling in this class.\n",
    "\n",
    "The differences between total number of passengers and the number of survivors from each class can be more easily communicated using a visualisation."
   ]
  },
  {
   "cell_type": "code",
   "execution_count": 7,
   "metadata": {
    "collapsed": true
   },
   "outputs": [],
   "source": [
    "import matplotlib.pyplot as plt\n",
    "import seaborn as sns\n",
    "\n",
    "%matplotlib inline"
   ]
  },
  {
   "cell_type": "code",
   "execution_count": 8,
   "metadata": {
    "collapsed": true
   },
   "outputs": [],
   "source": [
    "#function to define style of pie chart subplots\n",
    "def plot_subplot(data):\n",
    "    return plt.pie(data, colors=['navy', 'powderblue', 'darkturquoise'], labels=['first', 'second', 'third'], labeldistance=1.1, startangle=90, counterclock=False)"
   ]
  },
  {
   "cell_type": "code",
   "execution_count": 9,
   "metadata": {},
   "outputs": [
    {
     "data": {
      "text/plain": [
       "([<matplotlib.patches.Wedge at 0x17684d31c18>,\n",
       "  <matplotlib.patches.Wedge at 0x17684d3a7b8>,\n",
       "  <matplotlib.patches.Wedge at 0x17684d44438>],\n",
       " [<matplotlib.text.Text at 0x17684d3a320>,\n",
       "  <matplotlib.text.Text at 0x17684d3af60>,\n",
       "  <matplotlib.text.Text at 0x17684d44be0>])"
      ]
     },
     "execution_count": 9,
     "metadata": {},
     "output_type": "execute_result"
    },
    {
     "data": {
      "image/png": "[encoded data removed]",
      "text/plain": [
       "<matplotlib.figure.Figure at 0x17684ac90f0>"
      ]
     },
     "metadata": {},
     "output_type": "display_data"
    }
   ],
   "source": [
    "plt.figure(figsize=(8, 8))\n",
    "plt.subplot(221, title='Ticket classes of the \\n female passengers on board', aspect=1)\n",
    "plot_subplot(titantic_classes_percent['female'])\n",
    "\n",
    "plt.subplot(222, title='Ticket classes of the \\n male passengers on board', aspect=1)\n",
    "plot_subplot(titantic_classes_percent['male'])\n",
    "\n",
    "plt.subplot(223, title='Ticket classes of the \\n female passengers that survived', aspect=1)\n",
    "plot_subplot(titantic_classes_percent_survived['female'])\n",
    "\n",
    "plt.subplot(224, title='Ticket classes of the \\n male passengers that survived', aspect=1)\n",
    "plot_subplot(titantic_classes_percent_survived['male'])"
   ]
  },
  {
   "cell_type": "markdown",
   "metadata": {},
   "source": [
    "By comparing the visualisations above, it can be seen that although the largest proprotion of passengers in both the male and female groups were travelling in third class, this proportion shrinks when compared to the ticket class of the survivors. Those that travelled in first class made up a far higher percentage of the survivors then would be reflected by the proportion of first class passengers."
   ]
  },
  {
   "cell_type": "markdown",
   "metadata": {},
   "source": [
    "### Did age affect a passenger's survival rate?\n",
    "Continuing to explore the data, I studied whether the age of a passenger reflected how likely the passenger was to survive."
   ]
  },
  {
   "cell_type": "code",
   "execution_count": 10,
   "metadata": {},
   "outputs": [
    {
     "data": {
      "text/plain": [
       "Sex     Survived       \n",
       "female  0         count     64.000000\n",
       "                  mean      25.046875\n",
       "                  std       13.618591\n",
       "                  min        2.000000\n",
       "                  25%       16.750000\n",
       "                  50%       24.500000\n",
       "                  75%       33.250000\n",
       "                  max       57.000000\n",
       "        1         count    197.000000\n",
       "                  mean      28.847716\n",
       "                  std       14.175073\n",
       "                  min        0.750000\n",
       "                  25%       19.000000\n",
       "                  50%       28.000000\n",
       "                  75%       38.000000\n",
       "                  max       63.000000\n",
       "male    0         count    360.000000\n",
       "                  mean      31.618056\n",
       "                  std       14.056019\n",
       "                  min        1.000000\n",
       "                  25%       21.750000\n",
       "                  50%       29.000000\n",
       "                  75%       39.250000\n",
       "                  max       74.000000\n",
       "        1         count     93.000000\n",
       "                  mean      27.276022\n",
       "                  std       16.504803\n",
       "                  min        0.420000\n",
       "                  25%       18.000000\n",
       "                  50%       28.000000\n",
       "                  75%       36.000000\n",
       "                  max       80.000000\n",
       "Name: Age, dtype: float64"
      ]
     },
     "execution_count": 10,
     "metadata": {},
     "output_type": "execute_result"
    }
   ],
   "source": [
    "#using the .describe function to get a general idea about the data\n",
    "titanic_ages = titanic_data.groupby(['Sex', 'Survived'])['Age']\n",
    "\n",
    "titanic_ages.describe()"
   ]
  },
  {
   "cell_type": "markdown",
   "metadata": {},
   "source": [
    "Looking at the data shown above, it seems that the mean and quartile ranges do not vary significantly between those that survived and those that did not. The standard deviation of each dataset is relatively large at between 13.6 and 16.5. \n",
    "\n",
    "To futher check for any relationships between survival and age, I plotted the data in the form of a number of histograms to help visualise the age distribution of the passengers."
   ]
  },
  {
   "cell_type": "code",
   "execution_count": 11,
   "metadata": {},
   "outputs": [
    {
     "data": {
      "text/plain": [
       "<matplotlib.text.Text at 0x17684dc1cf8>"
      ]
     },
     "execution_count": 11,
     "metadata": {},
     "output_type": "execute_result"
    },
    {
     "data": {
      "image/png": "[encoded data removed]",
      "text/plain": [
       "<matplotlib.figure.Figure at 0x17684ce27b8>"
      ]
     },
     "metadata": {},
     "output_type": "display_data"
    },
    {
     "data": {
      "image/png": "[encoded data removed]",
      "text/plain": [
       "<matplotlib.figure.Figure at 0x17684dc1cc0>"
      ]
     },
     "metadata": {},
     "output_type": "display_data"
    }
   ],
   "source": [
    "#creating histograms to look at the distribution of ages amongst all on board the Titanic and also amongst\n",
    "#those that survived and those that did not.\n",
    "#Data is first cleaned using .dropna() to remove any NaN values.\n",
    "\n",
    "titanic_data['Age'].dropna().hist(bins=16, range=(0,80));\n",
    "plt.title('Age demographic of passengers onboard the Titanic')\n",
    "titanic_data['Age'].dropna().hist(by=titanic_data['Survived'], bins=16, range=(0,80))\n",
    "plt.suptitle('Age demographic amongst non-survivors (graph 0) \\n and survivors (graph 1) of the Titanic disaster', y=1.05)"
   ]
  },
  {
   "cell_type": "markdown",
   "metadata": {},
   "source": [
    "Comparing the graphs above it can be seen that for those aged under 10, more passengers survived than did not, something which is not true for any other age group. Other than this, both the graphs for those that survived and those that did not show a similar distribution of ages to the general population of passengers aboard the ship. \n",
    "\n",
    "To investigate further the survival rates of the children onboard the titanic, I was interested in looking further into the data to explore if those with parents or siblings on board (identified in the dataset by 'Parch' > 0) were more likely to survive.\n",
    "\n",
    "### Did the number of siblings and parents a passenger had onboard affect the likelyhood of survival?\n",
    "\n",
    "Below I have grouped the data by 'Parch' to explore this question."
   ]
  },
  {
   "cell_type": "code",
   "execution_count": 12,
   "metadata": {},
   "outputs": [
    {
     "data": {
      "text/plain": [
       "Parch\n",
       "0    678\n",
       "1    118\n",
       "2     80\n",
       "3      5\n",
       "4      4\n",
       "5      5\n",
       "6      1\n",
       "Name: PassengerId, dtype: int64"
      ]
     },
     "execution_count": 12,
     "metadata": {},
     "output_type": "execute_result"
    }
   ],
   "source": [
    "#first looking at the number of entries in the dataset with Parch > 0\n",
    "titanic_grouped_by_parch = titanic_data.groupby('Parch')['PassengerId'].count()\n",
    "\n",
    "titanic_grouped_by_parch"
   ]
  },
  {
   "cell_type": "markdown",
   "metadata": {},
   "source": [
    "There were a total of 213 passengers onboard that also had at least one parent and/or sibling onboard."
   ]
  },
  {
   "cell_type": "code",
   "execution_count": 13,
   "metadata": {},
   "outputs": [
    {
     "data": {
      "text/plain": [
       "Parch\n",
       "0    233\n",
       "1     65\n",
       "2     40\n",
       "3      3\n",
       "4      0\n",
       "5      1\n",
       "6      0\n",
       "Name: Survived, dtype: int64"
      ]
     },
     "execution_count": 13,
     "metadata": {},
     "output_type": "execute_result"
    }
   ],
   "source": [
    "titanic_parch_and_survived = titanic_data.groupby('Parch')['Survived'].sum()\n",
    "\n",
    "titanic_parch_and_survived "
   ]
  },
  {
   "cell_type": "code",
   "execution_count": 14,
   "metadata": {},
   "outputs": [
    {
     "data": {
      "text/plain": [
       "Parch\n",
       "0    34.365782\n",
       "1    55.084746\n",
       "2    50.000000\n",
       "3    60.000000\n",
       "4     0.000000\n",
       "5    20.000000\n",
       "6     0.000000\n",
       "dtype: float64"
      ]
     },
     "execution_count": 14,
     "metadata": {},
     "output_type": "execute_result"
    }
   ],
   "source": [
    "survival_rates_by_parch = (titanic_parch_and_survived / titanic_grouped_by_parch)*100\n",
    "survival_rates_by_parch"
   ]
  },
  {
   "cell_type": "markdown",
   "metadata": {},
   "source": [
    "Within this dataset, the overall survival rate for the passengers onboard the Titanic was just over 38 %. Comparing this value to the data above, it does seem as if having 1, 2 or 3 parents and/or siblings also onboard did increase ones chances of survival. However, having more than this resulted in the opposite effect."
   ]
  },
  {
   "cell_type": "markdown",
   "metadata": {},
   "source": [
    "## Conclusions\n",
    "\n",
    "This report has explored how the gender, ticket class and age of a passenger aboard the Titanic, as well as the number of parents and/or children also onboard, reflected the likelihood that a passenger would have survived the disaster. \n",
    "\n",
    "No statistical analysis has been undertaken, and so no conclusions can be made as to the statistic significance of the findings, however, interesting conclusions can be made nonetheless.\n",
    "\n",
    "Female passengers were far more likely than their male counterparts to survive, with 74 % of the female passengers onboard the ship surviving, whilst just under 19 % of the male passengers did so. Amongst both the male and female passengers, those traveling in first class were more likely to survive than those travelling in third.\n",
    "\n",
    "The likelihood of survival was less correlated to age, apart from those who were aged less than 10 for who there did seem to be some advantage. This led me to explore if there was a relationship between travelling with parents and/or siblings and survival. It seems that travelling with between 1 and 3 close relatives did indeed increase the likelyhood of survival, however, for numbers above this the opposite seemed to be true."
   ]
  },
  {
   "cell_type": "markdown",
   "metadata": {},
   "source": [
    "## Note:\n",
    "\n",
    "No other resourses were used in creating this submission."
   ]
  }
 ],
 "metadata": {
  "kernelspec": {
   "display_name": "Python 2",
   "language": "python",
   "name": "python2"
  },
  "language_info": {
   "codemirror_mode": {
    "name": "ipython",
    "version": 2
   },
   "file_extension": ".py",
   "mimetype": "text/x-python",
   "name": "python",
   "nbconvert_exporter": "python",
   "pygments_lexer": "ipython2",
   "version": "2.7.13"
  }
 },
 "nbformat": 4,
 "nbformat_minor": 2
}
